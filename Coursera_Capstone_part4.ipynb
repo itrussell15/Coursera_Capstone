{
 "cells": [
  {
   "cell_type": "code",
   "execution_count": 12,
   "metadata": {
    "collapsed": true
   },
   "outputs": [],
   "source": [
    "import numpy as np\n",
    "import pandas as pd\n",
    "import bs4\n",
    "import folium\n",
    "import requests\n",
    "# import geopy\n",
    "import urllib3"
   ]
  },
  {
   "cell_type": "markdown",
   "metadata": {},
   "source": [
    "Grabbing URL with urllib and scraping the html with Beautiful Soup"
   ]
  },
  {
   "cell_type": "code",
   "execution_count": 13,
   "metadata": {},
   "outputs": [
    {
     "name": "stderr",
     "output_type": "stream",
     "text": [
      "/Users/isaactrussell/anaconda3/lib/python3.6/site-packages/urllib3/connectionpool.py:858: InsecureRequestWarning: Unverified HTTPS request is being made. Adding certificate verification is strongly advised. See: https://urllib3.readthedocs.io/en/latest/advanced-usage.html#ssl-warnings\n",
      "  InsecureRequestWarning)\n",
      "/Users/isaactrussell/anaconda3/lib/python3.6/site-packages/bs4/__init__.py:181: UserWarning: No parser was explicitly specified, so I'm using the best available HTML parser for this system (\"lxml\"). This usually isn't a problem, but if you run this code on another system, or in a different virtual environment, it may use a different parser and behave differently.\n",
      "\n",
      "The code that caused this warning is on line 193 of the file /Users/isaactrussell/anaconda3/lib/python3.6/runpy.py. To get rid of this warning, change code that looks like this:\n",
      "\n",
      " BeautifulSoup(YOUR_MARKUP})\n",
      "\n",
      "to this:\n",
      "\n",
      " BeautifulSoup(YOUR_MARKUP, \"lxml\")\n",
      "\n",
      "  markup_type=markup_type))\n"
     ]
    }
   ],
   "source": [
    "url = \"https://en.wikipedia.org/wiki/List_of_postal_codes_of_Canada:_M\"\n",
    "urlLib = urllib3.PoolManager()\n",
    "r = urlLib.request(\"GET\", url)\n",
    "\n",
    "soup = bs4.BeautifulSoup(r.data)"
   ]
  },
  {
   "cell_type": "markdown",
   "metadata": {},
   "source": [
    "Running through the first table and turning it into a pandas dataframe"
   ]
  },
  {
   "cell_type": "code",
   "execution_count": 14,
   "metadata": {},
   "outputs": [
    {
     "name": "stdout",
     "output_type": "stream",
     "text": [
      "(288, 3)\n"
     ]
    },
    {
     "data": {
      "text/html": [
       "<div>\n",
       "<style scoped>\n",
       "    .dataframe tbody tr th:only-of-type {\n",
       "        vertical-align: middle;\n",
       "    }\n",
       "\n",
       "    .dataframe tbody tr th {\n",
       "        vertical-align: top;\n",
       "    }\n",
       "\n",
       "    .dataframe thead th {\n",
       "        text-align: right;\n",
       "    }\n",
       "</style>\n",
       "<table border=\"1\" class=\"dataframe\">\n",
       "  <thead>\n",
       "    <tr style=\"text-align: right;\">\n",
       "      <th></th>\n",
       "      <th>Postcode</th>\n",
       "      <th>Borough</th>\n",
       "      <th>Neighbourhood</th>\n",
       "    </tr>\n",
       "  </thead>\n",
       "  <tbody>\n",
       "    <tr>\n",
       "      <th>0</th>\n",
       "      <td>M1A</td>\n",
       "      <td>Not assigned</td>\n",
       "      <td>Not assigned</td>\n",
       "    </tr>\n",
       "    <tr>\n",
       "      <th>1</th>\n",
       "      <td>M2A</td>\n",
       "      <td>Not assigned</td>\n",
       "      <td>Not assigned</td>\n",
       "    </tr>\n",
       "    <tr>\n",
       "      <th>2</th>\n",
       "      <td>M3A</td>\n",
       "      <td>North York</td>\n",
       "      <td>Parkwoods</td>\n",
       "    </tr>\n",
       "    <tr>\n",
       "      <th>3</th>\n",
       "      <td>M4A</td>\n",
       "      <td>North York</td>\n",
       "      <td>Victoria Village</td>\n",
       "    </tr>\n",
       "    <tr>\n",
       "      <th>4</th>\n",
       "      <td>M5A</td>\n",
       "      <td>Downtown Toronto</td>\n",
       "      <td>Harbourfront</td>\n",
       "    </tr>\n",
       "  </tbody>\n",
       "</table>\n",
       "</div>"
      ],
      "text/plain": [
       "  Postcode           Borough     Neighbourhood\n",
       "0      M1A      Not assigned      Not assigned\n",
       "1      M2A      Not assigned      Not assigned\n",
       "2      M3A        North York         Parkwoods\n",
       "3      M4A        North York  Victoria Village\n",
       "4      M5A  Downtown Toronto      Harbourfront"
      ]
     },
     "execution_count": 14,
     "metadata": {},
     "output_type": "execute_result"
    }
   ],
   "source": [
    "table = soup.findChildren(\"table\")[0]\n",
    "rows = []\n",
    "for row in table.find_all(\"tr\"):\n",
    "        temp = []\n",
    "        elems = row.find_all(\"td\")\n",
    "        for elem in elems:\n",
    "            if elems[-1] == elem:\n",
    "                text = elem.text\n",
    "                text = text[:-1]\n",
    "                temp.append(text)\n",
    "            else:\n",
    "                temp.append(elem.text)\n",
    "        rows.append(temp)\n",
    "    \n",
    "df = pd.DataFrame.from_records(rows[1:])\n",
    "headers = [head.text for head in table.find_all(\"th\")]\n",
    "headers[-1] = headers[-1][:-1]\n",
    "df.columns = headers\n",
    "\n",
    "print(df.shape)\n",
    "df.head()"
   ]
  },
  {
   "cell_type": "markdown",
   "metadata": {},
   "source": [
    "Dropping all the \"Not assigned\" boroughs and assign the borough names for neighbourhoods that lack a name"
   ]
  },
  {
   "cell_type": "code",
   "execution_count": 15,
   "metadata": {},
   "outputs": [
    {
     "name": "stdout",
     "output_type": "stream",
     "text": [
      "(211, 3)\n"
     ]
    }
   ],
   "source": [
    "mask = df[\"Borough\"] != \"Not assigned\"\n",
    "df = df[mask]\n",
    "print(df.shape)\n",
    "df.head()\n",
    "\n",
    "row = df[df[\"Neighbourhood\"] == \"Not assigned\"]\n",
    "df.at[row.index, \"Neighbourhood\"] = row.Borough.values[0]"
   ]
  },
  {
   "cell_type": "markdown",
   "metadata": {},
   "source": [
    "Gather all the unique postal code values"
   ]
  },
  {
   "cell_type": "code",
   "execution_count": 16,
   "metadata": {},
   "outputs": [
    {
     "name": "stdout",
     "output_type": "stream",
     "text": [
      "['M3A' 'M4A' 'M5A' 'M6A' 'M7A' 'M9A' 'M1B' 'M3B' 'M4B' 'M5B' 'M6B' 'M9B'\n",
      " 'M1C' 'M3C' 'M4C' 'M5C' 'M6C' 'M9C' 'M1E' 'M4E' 'M5E' 'M6E' 'M1G' 'M4G'\n",
      " 'M5G' 'M6G' 'M1H' 'M2H' 'M3H' 'M4H' 'M5H' 'M6H' 'M1J' 'M2J' 'M3J' 'M4J'\n",
      " 'M5J' 'M6J' 'M1K' 'M2K' 'M3K' 'M4K' 'M5K' 'M6K' 'M1L' 'M2L' 'M3L' 'M4L'\n",
      " 'M5L' 'M6L' 'M9L' 'M1M' 'M2M' 'M3M' 'M4M' 'M5M' 'M6M' 'M9M' 'M1N' 'M2N'\n",
      " 'M3N' 'M4N' 'M5N' 'M6N' 'M9N' 'M1P' 'M2P' 'M4P' 'M5P' 'M6P' 'M9P' 'M1R'\n",
      " 'M2R' 'M4R' 'M5R' 'M6R' 'M7R' 'M9R' 'M1S' 'M4S' 'M5S' 'M6S' 'M1T' 'M4T'\n",
      " 'M5T' 'M1V' 'M4V' 'M5V' 'M8V' 'M9V' 'M1W' 'M4W' 'M5W' 'M8W' 'M9W' 'M1X'\n",
      " 'M4X' 'M5X' 'M8X' 'M4Y' 'M7Y' 'M8Y' 'M8Z']\n"
     ]
    }
   ],
   "source": [
    "code_list = df[\"Postcode\"].unique()\n",
    "print(code_list)"
   ]
  },
  {
   "cell_type": "markdown",
   "metadata": {},
   "source": [
    "Drop all duplicates and assign new neighbourhood column with the join neighbourhood data "
   ]
  },
  {
   "cell_type": "code",
   "execution_count": 17,
   "metadata": {},
   "outputs": [
    {
     "name": "stdout",
     "output_type": "stream",
     "text": [
      "Number of Unique Postal Codes: 103\n"
     ]
    },
    {
     "name": "stderr",
     "output_type": "stream",
     "text": [
      "/Users/isaactrussell/anaconda3/lib/python3.6/site-packages/pandas/core/frame.py:4097: SettingWithCopyWarning: \n",
      "A value is trying to be set on a copy of a slice from a DataFrame\n",
      "\n",
      "See the caveats in the documentation: http://pandas.pydata.org/pandas-docs/stable/user_guide/indexing.html#returning-a-view-versus-a-copy\n",
      "  errors=errors,\n",
      "/Users/isaactrussell/anaconda3/lib/python3.6/site-packages/ipykernel_launcher.py:10: SettingWithCopyWarning: \n",
      "A value is trying to be set on a copy of a slice from a DataFrame.\n",
      "Try using .loc[row_indexer,col_indexer] = value instead\n",
      "\n",
      "See the caveats in the documentation: http://pandas.pydata.org/pandas-docs/stable/user_guide/indexing.html#returning-a-view-versus-a-copy\n",
      "  # Remove the CWD from sys.path while we load stuff.\n"
     ]
    },
    {
     "data": {
      "text/html": [
       "<div>\n",
       "<style scoped>\n",
       "    .dataframe tbody tr th:only-of-type {\n",
       "        vertical-align: middle;\n",
       "    }\n",
       "\n",
       "    .dataframe tbody tr th {\n",
       "        vertical-align: top;\n",
       "    }\n",
       "\n",
       "    .dataframe thead th {\n",
       "        text-align: right;\n",
       "    }\n",
       "</style>\n",
       "<table border=\"1\" class=\"dataframe\">\n",
       "  <thead>\n",
       "    <tr style=\"text-align: right;\">\n",
       "      <th></th>\n",
       "      <th>Postcode</th>\n",
       "      <th>Borough</th>\n",
       "      <th>Neighbourhood</th>\n",
       "    </tr>\n",
       "  </thead>\n",
       "  <tbody>\n",
       "    <tr>\n",
       "      <th>0</th>\n",
       "      <td>M3A</td>\n",
       "      <td>North York</td>\n",
       "      <td>Parkwoods</td>\n",
       "    </tr>\n",
       "    <tr>\n",
       "      <th>1</th>\n",
       "      <td>M4A</td>\n",
       "      <td>North York</td>\n",
       "      <td>Victoria Village</td>\n",
       "    </tr>\n",
       "    <tr>\n",
       "      <th>2</th>\n",
       "      <td>M5A</td>\n",
       "      <td>Downtown Toronto</td>\n",
       "      <td>Harbourfront,Regent Park</td>\n",
       "    </tr>\n",
       "    <tr>\n",
       "      <th>3</th>\n",
       "      <td>M6A</td>\n",
       "      <td>North York</td>\n",
       "      <td>Lawrence Heights,Lawrence Manor</td>\n",
       "    </tr>\n",
       "    <tr>\n",
       "      <th>4</th>\n",
       "      <td>M7A</td>\n",
       "      <td>Queen's Park</td>\n",
       "      <td>Queen's Park</td>\n",
       "    </tr>\n",
       "  </tbody>\n",
       "</table>\n",
       "</div>"
      ],
      "text/plain": [
       "  Postcode           Borough                    Neighbourhood\n",
       "0      M3A        North York                        Parkwoods\n",
       "1      M4A        North York                 Victoria Village\n",
       "2      M5A  Downtown Toronto         Harbourfront,Regent Park\n",
       "3      M6A        North York  Lawrence Heights,Lawrence Manor\n",
       "4      M7A      Queen's Park                     Queen's Park"
      ]
     },
     "execution_count": 17,
     "metadata": {},
     "output_type": "execute_result"
    }
   ],
   "source": [
    "df_dropped = df.drop_duplicates([\"Postcode\"], keep = \"first\")\n",
    "df_dropped.drop(\"Neighbourhood\", axis = 1, inplace = True)\n",
    "print(\"Number of Unique Postal Codes: {}\".format(df_dropped.shape[0]))\n",
    "\n",
    "neighbourhoods = []\n",
    "\n",
    "for code in code_list:\n",
    "    hoods = df[\"Neighbourhood\"][df[\"Postcode\"] == code].values\n",
    "    neighbourhoods.append(\",\".join(hoods))\n",
    "df_dropped[\"Neighbourhood\"] = neighbourhoods\n",
    "df_dropped.reset_index(drop = True, inplace = True)\n",
    "df_dropped.head()"
   ]
  },
  {
   "cell_type": "markdown",
   "metadata": {},
   "source": [
    "Printing shape of the dataset"
   ]
  },
  {
   "cell_type": "code",
   "execution_count": 18,
   "metadata": {},
   "outputs": [
    {
     "name": "stdout",
     "output_type": "stream",
     "text": [
      "(103, 3)\n"
     ]
    }
   ],
   "source": [
    "df = df_dropped\n",
    "print(df.shape)\n",
    "\n",
    "# # df.drop([\"Latitude\", \"Longitude\"], axis = 1, inplace = True)\n",
    "# df.head()"
   ]
  },
  {
   "cell_type": "code",
   "execution_count": 19,
   "metadata": {
    "collapsed": true
   },
   "outputs": [],
   "source": [
    "# Tried to run geocoder, loop ran for 30 seconds with no output on a single postal code. Decided to simply use the csv provided\n",
    "\n",
    "# import geocoder\n",
    "\n",
    "# coords = None\n",
    "\n",
    "# while coords is None:\n",
    "#     g = geocoder.google(\"M2K, Toronto, Ontario\")\n",
    "#     coords = g.latlng\n",
    "# print(coords)"
   ]
  },
  {
   "cell_type": "markdown",
   "metadata": {},
   "source": [
    "Using join method to create a new dataframe of the existing data along with the latitude and longitude data."
   ]
  },
  {
   "cell_type": "code",
   "execution_count": 20,
   "metadata": {},
   "outputs": [
    {
     "data": {
      "text/html": [
       "<div>\n",
       "<style scoped>\n",
       "    .dataframe tbody tr th:only-of-type {\n",
       "        vertical-align: middle;\n",
       "    }\n",
       "\n",
       "    .dataframe tbody tr th {\n",
       "        vertical-align: top;\n",
       "    }\n",
       "\n",
       "    .dataframe thead th {\n",
       "        text-align: right;\n",
       "    }\n",
       "</style>\n",
       "<table border=\"1\" class=\"dataframe\">\n",
       "  <thead>\n",
       "    <tr style=\"text-align: right;\">\n",
       "      <th></th>\n",
       "      <th>Postcode</th>\n",
       "      <th>Borough</th>\n",
       "      <th>Neighbourhood</th>\n",
       "      <th>Latitude</th>\n",
       "      <th>Longitude</th>\n",
       "    </tr>\n",
       "  </thead>\n",
       "  <tbody>\n",
       "    <tr>\n",
       "      <th>0</th>\n",
       "      <td>M1B</td>\n",
       "      <td>Scarborough</td>\n",
       "      <td>Rouge,Malvern</td>\n",
       "      <td>43.806686</td>\n",
       "      <td>-79.194353</td>\n",
       "    </tr>\n",
       "    <tr>\n",
       "      <th>1</th>\n",
       "      <td>M1C</td>\n",
       "      <td>Scarborough</td>\n",
       "      <td>Highland Creek,Rouge Hill,Port Union</td>\n",
       "      <td>43.784535</td>\n",
       "      <td>-79.160497</td>\n",
       "    </tr>\n",
       "    <tr>\n",
       "      <th>2</th>\n",
       "      <td>M1E</td>\n",
       "      <td>Scarborough</td>\n",
       "      <td>Guildwood,Morningside,West Hill</td>\n",
       "      <td>43.763573</td>\n",
       "      <td>-79.188711</td>\n",
       "    </tr>\n",
       "    <tr>\n",
       "      <th>3</th>\n",
       "      <td>M1G</td>\n",
       "      <td>Scarborough</td>\n",
       "      <td>Woburn</td>\n",
       "      <td>43.770992</td>\n",
       "      <td>-79.216917</td>\n",
       "    </tr>\n",
       "    <tr>\n",
       "      <th>4</th>\n",
       "      <td>M1H</td>\n",
       "      <td>Scarborough</td>\n",
       "      <td>Cedarbrae</td>\n",
       "      <td>43.773136</td>\n",
       "      <td>-79.239476</td>\n",
       "    </tr>\n",
       "  </tbody>\n",
       "</table>\n",
       "</div>"
      ],
      "text/plain": [
       "  Postcode      Borough                         Neighbourhood   Latitude  \\\n",
       "0      M1B  Scarborough                         Rouge,Malvern  43.806686   \n",
       "1      M1C  Scarborough  Highland Creek,Rouge Hill,Port Union  43.784535   \n",
       "2      M1E  Scarborough       Guildwood,Morningside,West Hill  43.763573   \n",
       "3      M1G  Scarborough                                Woburn  43.770992   \n",
       "4      M1H  Scarborough                             Cedarbrae  43.773136   \n",
       "\n",
       "   Longitude  \n",
       "0 -79.194353  \n",
       "1 -79.160497  \n",
       "2 -79.188711  \n",
       "3 -79.216917  \n",
       "4 -79.239476  "
      ]
     },
     "execution_count": 20,
     "metadata": {},
     "output_type": "execute_result"
    }
   ],
   "source": [
    "latLon = pd.read_csv(\"Geospatial_Coordinates.csv\")\n",
    "latLon.head()\n",
    "\n",
    "latLon.sort_values(by = \"Postal Code\", inplace = True)\n",
    "df.sort_values(by = \"Postcode\", inplace = True)\n",
    "\n",
    "df = df.join(latLon.set_index(\"Postal Code\"), on = \"Postcode\")\n",
    "df.reset_index(drop = True, inplace = True)\n",
    "df.head()"
   ]
  },
  {
   "cell_type": "markdown",
   "metadata": {},
   "source": [
    "Practice requesting data from the Foursquare API using the first location in DataFrame"
   ]
  },
  {
   "cell_type": "code",
   "execution_count": 22,
   "metadata": {},
   "outputs": [],
   "source": [
    "import requests\n",
    "import json\n",
    "\n",
    "ll = df.iloc[0][[\"Latitude\", \"Longitude\"]].values\n",
    "value = \",\".join(str(val) for val in ll)\n",
    "\n",
    "url = \"https://api.foursquare.com/v2/venues/explore\"\n",
    "params = dict(\n",
    "    client_id = 'W5CHCMS4RL2BMAQVYOORLJQCF4XLGWK42SDQWAG1XFLX2LRV',\n",
    "    client_secret = 'BVUEP1F3ZHWSQGN24XBSDK0GK15CBU2OJZ53VLQIR4PQQQ4U',\n",
    "    v = '20180323',\n",
    "    ll = value,\n",
    "    limit = 10,\n",
    "    radius = 600)\n",
    "\n",
    "# print(params)\n",
    "req = requests.get(url = url, params = params)\n",
    "data = json.loads(req.text)"
   ]
  },
  {
   "cell_type": "markdown",
   "metadata": {},
   "source": [
    "Showing all data in response section of json file with their respective keys"
   ]
  },
  {
   "cell_type": "code",
   "execution_count": 23,
   "metadata": {},
   "outputs": [
    {
     "name": "stdout",
     "output_type": "stream",
     "text": [
      "--headerLocation--\n",
      "Malvern \n",
      "\n",
      "--headerFullLocation--\n",
      "Malvern, Toronto \n",
      "\n",
      "--headerLocationGranularity--\n",
      "neighborhood \n",
      "\n",
      "--totalResults--\n",
      "4 \n",
      "\n",
      "--suggestedBounds--\n",
      "{'ne': {'lat': 43.8120863054, 'lng': -79.1868848168765}, 'sw': {'lat': 43.80128629459999, 'lng': -79.20182198312352}} \n",
      "\n",
      "--groups--\n",
      "[{'type': 'Recommended Places', 'name': 'recommended', 'items': [{'reasons': {'count': 0, 'items': [{'summary': 'This spot is popular', 'type': 'general', 'reasonName': 'globalInteractionReason'}]}, 'venue': {'id': '4d669cba83865481c948fa53', 'name': 'Images Salon & Spa', 'contact': {}, 'location': {'address': '8130 Sheppard Ave E', 'crossStreet': 'Morningside Ave', 'lat': 43.80228301948931, 'lng': -79.19856472801668, 'labeledLatLngs': [{'label': 'display', 'lat': 43.80228301948931, 'lng': -79.19856472801668}], 'distance': 595, 'postalCode': 'M1B 3W3', 'cc': 'CA', 'city': 'Toronto', 'state': 'ON', 'country': 'Canada', 'formattedAddress': ['8130 Sheppard Ave E (Morningside Ave)', 'Toronto ON M1B 3W3', 'Canada']}, 'categories': [{'id': '4bf58dd8d48988d1ed941735', 'name': 'Spa', 'pluralName': 'Spas', 'shortName': 'Spa', 'icon': {'prefix': 'https://ss3.4sqi.net/img/categories_v2/shops/spa_', 'suffix': '.png'}, 'primary': True}], 'verified': False, 'stats': {'tipCount': 0, 'usersCount': 0, 'checkinsCount': 0, 'visitsCount': 0}, 'beenHere': {'count': 0, 'lastCheckinExpiredAt': 0, 'marked': False, 'unconfirmedCount': 0}, 'photos': {'count': 0, 'groups': []}, 'hereNow': {'count': 0, 'summary': 'Nobody here', 'groups': []}}, 'referralId': 'e-0-4d669cba83865481c948fa53-0'}, {'reasons': {'count': 0, 'items': [{'summary': 'This spot is popular', 'type': 'general', 'reasonName': 'globalInteractionReason'}]}, 'venue': {'id': '4bb6b9446edc76b0d771311c', 'name': \"Wendy's\", 'contact': {}, 'location': {'crossStreet': 'Morningside & Sheppard', 'lat': 43.80744841934756, 'lng': -79.19905558052072, 'labeledLatLngs': [{'label': 'display', 'lat': 43.80744841934756, 'lng': -79.19905558052072}], 'distance': 387, 'cc': 'CA', 'city': 'Toronto', 'state': 'ON', 'country': 'Canada', 'formattedAddress': ['Toronto ON', 'Canada']}, 'categories': [{'id': '4bf58dd8d48988d16e941735', 'name': 'Fast Food Restaurant', 'pluralName': 'Fast Food Restaurants', 'shortName': 'Fast Food', 'icon': {'prefix': 'https://ss3.4sqi.net/img/categories_v2/food/fastfood_', 'suffix': '.png'}, 'primary': True}], 'verified': False, 'stats': {'tipCount': 0, 'usersCount': 0, 'checkinsCount': 0, 'visitsCount': 0}, 'beenHere': {'count': 0, 'lastCheckinExpiredAt': 0, 'marked': False, 'unconfirmedCount': 0}, 'photos': {'count': 0, 'groups': []}, 'hereNow': {'count': 0, 'summary': 'Nobody here', 'groups': []}}, 'referralId': 'e-0-4bb6b9446edc76b0d771311c-1'}, {'reasons': {'count': 0, 'items': [{'summary': 'This spot is popular', 'type': 'general', 'reasonName': 'globalInteractionReason'}]}, 'venue': {'id': '579a91b3498e9bd833afa78a', 'name': \"Wendy's\", 'contact': {}, 'location': {'address': '8129 Sheppard Avenue', 'lat': 43.8020084, 'lng': -79.1980797, 'labeledLatLngs': [{'label': 'display', 'lat': 43.8020084, 'lng': -79.1980797}], 'distance': 600, 'postalCode': 'M1B 6A3', 'cc': 'CA', 'city': 'Scarborough', 'state': 'ON', 'country': 'Canada', 'formattedAddress': ['8129 Sheppard Avenue', 'Scarborough ON M1B 6A3', 'Canada']}, 'categories': [{'id': '4bf58dd8d48988d16e941735', 'name': 'Fast Food Restaurant', 'pluralName': 'Fast Food Restaurants', 'shortName': 'Fast Food', 'icon': {'prefix': 'https://ss3.4sqi.net/img/categories_v2/food/fastfood_', 'suffix': '.png'}, 'primary': True}], 'verified': True, 'stats': {'tipCount': 0, 'usersCount': 0, 'checkinsCount': 0, 'visitsCount': 0}, 'beenHere': {'count': 0, 'lastCheckinExpiredAt': 0, 'marked': False, 'unconfirmedCount': 0}, 'photos': {'count': 0, 'groups': []}, 'hereNow': {'count': 0, 'summary': 'Nobody here', 'groups': []}}, 'referralId': 'e-0-579a91b3498e9bd833afa78a-2'}, {'reasons': {'count': 0, 'items': [{'summary': 'This spot is popular', 'type': 'general', 'reasonName': 'globalInteractionReason'}]}, 'venue': {'id': '4bd08ceeb221c9b6cbe8d3d0', 'name': 'Lee Valley', 'contact': {}, 'location': {'address': '1275 Morningside', 'lat': 43.803161304831846, 'lng': -79.19968142252247, 'labeledLatLngs': [{'label': 'display', 'lat': 43.803161304831846, 'lng': -79.19968142252247}], 'distance': 580, 'cc': 'CA', 'city': 'Toronto', 'state': 'ON', 'country': 'Canada', 'formattedAddress': ['1275 Morningside', 'Toronto ON', 'Canada']}, 'categories': [{'id': '4bf58dd8d48988d1fb941735', 'name': 'Hobby Shop', 'pluralName': 'Hobby Shops', 'shortName': 'Hobbies', 'icon': {'prefix': 'https://ss3.4sqi.net/img/categories_v2/shops/hobbyshop_', 'suffix': '.png'}, 'primary': True}], 'verified': False, 'stats': {'tipCount': 0, 'usersCount': 0, 'checkinsCount': 0, 'visitsCount': 0}, 'beenHere': {'count': 0, 'lastCheckinExpiredAt': 0, 'marked': False, 'unconfirmedCount': 0}, 'photos': {'count': 0, 'groups': []}, 'hereNow': {'count': 0, 'summary': 'Nobody here', 'groups': []}}, 'referralId': 'e-0-4bd08ceeb221c9b6cbe8d3d0-3'}]}] \n",
      "\n"
     ]
    }
   ],
   "source": [
    "keys = data[\"response\"].keys()\n",
    "\n",
    "for key in keys:\n",
    "    print(\"--\" + key + \"--\")\n",
    "    print(data[\"response\"][key], \"\\n\")"
   ]
  },
  {
   "cell_type": "markdown",
   "metadata": {},
   "source": [
    "\n",
    "\n",
    "The section \"group\" seems to have the majority of the valuable information contained in it. \n",
    "\n",
    "The total results section would be an interesting thing to explore as it can be an indicator of density in the given radius.\n",
    "\n",
    "Further investigating the \"groups\" section to understand json file structure"
   ]
  },
  {
   "cell_type": "code",
   "execution_count": 24,
   "metadata": {},
   "outputs": [
    {
     "name": "stdout",
     "output_type": "stream",
     "text": [
      "--id--\n",
      "4d669cba83865481c948fa53 \n",
      "\n",
      "--name--\n",
      "Images Salon & Spa \n",
      "\n",
      "--contact--\n",
      "{} \n",
      "\n",
      "--location--\n",
      "{'address': '8130 Sheppard Ave E', 'crossStreet': 'Morningside Ave', 'lat': 43.80228301948931, 'lng': -79.19856472801668, 'labeledLatLngs': [{'label': 'display', 'lat': 43.80228301948931, 'lng': -79.19856472801668}], 'distance': 595, 'postalCode': 'M1B 3W3', 'cc': 'CA', 'city': 'Toronto', 'state': 'ON', 'country': 'Canada', 'formattedAddress': ['8130 Sheppard Ave E (Morningside Ave)', 'Toronto ON M1B 3W3', 'Canada']} \n",
      "\n",
      "--categories--\n",
      "[{'id': '4bf58dd8d48988d1ed941735', 'name': 'Spa', 'pluralName': 'Spas', 'shortName': 'Spa', 'icon': {'prefix': 'https://ss3.4sqi.net/img/categories_v2/shops/spa_', 'suffix': '.png'}, 'primary': True}] \n",
      "\n",
      "--verified--\n",
      "False \n",
      "\n",
      "--stats--\n",
      "{'tipCount': 0, 'usersCount': 0, 'checkinsCount': 0, 'visitsCount': 0} \n",
      "\n",
      "--beenHere--\n",
      "{'count': 0, 'lastCheckinExpiredAt': 0, 'marked': False, 'unconfirmedCount': 0} \n",
      "\n",
      "--photos--\n",
      "{'count': 0, 'groups': []} \n",
      "\n",
      "--hereNow--\n",
      "{'count': 0, 'summary': 'Nobody here', 'groups': []} \n",
      "\n"
     ]
    }
   ],
   "source": [
    "\n",
    "results = data[\"response\"][\"groups\"][0][\"items\"]\n",
    "venue_keys = list(results[0]['venue'].keys())\n",
    "for key in venue_keys:\n",
    "    print(\"--{}--\".format(key))\n",
    "    print(results[0][\"venue\"][key], \"\\n\")"
   ]
  },
  {
   "cell_type": "markdown",
   "metadata": {},
   "source": [
    "Simlar to the New York city example. Grabbing the types of places in the area will be a good feature to draw on. Another feature could be the amount of check ins or visits that a venue has. Could be an indicator of community engagment. Let's check out some other neighborhoods and see how our results differ from this one. There were only 4 results returned here which seems like a small amount.\n",
    "\n",
    "First lets make it easier to grab and format the lat and long values from our DataFrame with a quick function and a function to make requests easier"
   ]
  },
  {
   "cell_type": "code",
   "execution_count": 25,
   "metadata": {
    "collapsed": true
   },
   "outputs": [],
   "source": [
    "### Takes in a row number, i,  and returns the corresponding lat and long values\n",
    "def get_lat_long(i):\n",
    "    ll = df.iloc[i][[\"Latitude\", \"Longitude\"]].values\n",
    "    return \",\".join(str(val) for val in ll)\n",
    "\n",
    "### Lets also make a quick way to request from the Foursquare API\n",
    "#Input : value - row number we want to learn about\n",
    "#        rad (optional: default = .5 mile) - radius around search point\n",
    "#        limit (optional: default = 15) - number of results to output from the API\n",
    "#Output:\n",
    "#       num_results - number of results from request\n",
    "#       data - \"important\" data from the groups section of the json file\n",
    "\n",
    "def makeRequest(value, rad = 805, limit = 15):\n",
    "    ll = get_lat_long(value)\n",
    "    url = \"https://api.foursquare.com/v2/venues/explore\"\n",
    "    params = dict(\n",
    "        client_id = 'W5CHCMS4RL2BMAQVYOORLJQCF4XLGWK42SDQWAG1XFLX2LRV',\n",
    "        client_secret = 'BVUEP1F3ZHWSQGN24XBSDK0GK15CBU2OJZ53VLQIR4PQQQ4U',\n",
    "        v = '20180323',\n",
    "        ll = ll,\n",
    "        limit = limit,\n",
    "        radius = rad)\n",
    "    req = requests.get(url = url, params = params)\n",
    "    data = json.loads(req.text)[\"response\"]\n",
    "    return data[\"totalResults\"], data[\"groups\"]"
   ]
  },
  {
   "cell_type": "markdown",
   "metadata": {},
   "source": [
    "\n",
    "Lets test it out on a couple more rows"
   ]
  },
  {
   "cell_type": "code",
   "execution_count": null,
   "metadata": {},
   "outputs": [],
   "source": [
    "# Random numbers\n",
    "test_rows = [10, 36, 58, 86, 99, 101]\n",
    "for row in test_rows:\n",
    "    n, new_data = makeRequest(row)\n",
    "    print(\"Number of Results from Request: {}\".format(n))"
   ]
  },
  {
   "cell_type": "markdown",
   "metadata": {},
   "source": [
    "There seems to be a good variety of result sizes. Now lets check out all the neighborhood location on a map"
   ]
  },
  {
   "cell_type": "code",
   "execution_count": null,
   "metadata": {},
   "outputs": [],
   "source": [
    "toronto_lat_long = [43.7, -79.4]\n",
    "m = folium.Map(location = toronto_lat_long, zoom_start = 11, tiles = \"Stamen Toner\")\n",
    "\n",
    "for row in range(df.shape[0]):\n",
    "    folium.Circle(location = df.iloc[row][[\"Latitude\", \"Longitude\"]].values,\n",
    "                  color = \"crimson\", \n",
    "                  popup = df.iloc[row][\"Neighbourhood\"],\n",
    "                  fill = True,\n",
    "                  radius = 90).add_to(m)\n",
    "m"
   ]
  },
  {
   "cell_type": "code",
   "execution_count": null,
   "metadata": {
    "collapsed": true
   },
   "outputs": [],
   "source": []
  }
 ],
 "metadata": {
  "kernelspec": {
   "display_name": "Python 3",
   "language": "python",
   "name": "python3"
  },
  "language_info": {
   "codemirror_mode": {
    "name": "ipython",
    "version": 3
   },
   "file_extension": ".py",
   "mimetype": "text/x-python",
   "name": "python",
   "nbconvert_exporter": "python",
   "pygments_lexer": "ipython3",
   "version": "3.6.3"
  }
 },
 "nbformat": 4,
 "nbformat_minor": 2
}
