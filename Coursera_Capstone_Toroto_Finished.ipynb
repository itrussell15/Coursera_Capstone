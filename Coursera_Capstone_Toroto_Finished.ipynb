{
 "cells": [
  {
   "cell_type": "code",
   "execution_count": 424,
   "metadata": {},
   "outputs": [],
   "source": [
    "import numpy as np\n",
    "import pandas as pd\n",
    "import bs4\n",
    "import folium\n",
    "import requests\n",
    "# import geopy\n",
    "import urllib3"
   ]
  },
  {
   "cell_type": "markdown",
   "metadata": {},
   "source": [
    "Grabbing URL with urllib and scraping the html with Beautiful Soup"
   ]
  },
  {
   "cell_type": "code",
   "execution_count": 425,
   "metadata": {},
   "outputs": [
    {
     "name": "stderr",
     "output_type": "stream",
     "text": [
      "C:\\Users\\Schmuck\\Anaconda3\\lib\\site-packages\\urllib3\\connectionpool.py:847: InsecureRequestWarning: Unverified HTTPS request is being made. Adding certificate verification is strongly advised. See: https://urllib3.readthedocs.io/en/latest/advanced-usage.html#ssl-warnings\n",
      "  InsecureRequestWarning)\n"
     ]
    }
   ],
   "source": [
    "url = \"https://en.wikipedia.org/wiki/List_of_postal_codes_of_Canada:_M\"\n",
    "urlLib = urllib3.PoolManager()\n",
    "r = urlLib.request(\"GET\", url)\n",
    "\n",
    "soup = bs4.BeautifulSoup(r.data)"
   ]
  },
  {
   "cell_type": "markdown",
   "metadata": {},
   "source": [
    "Running through the first table and turning it into a pandas dataframe"
   ]
  },
  {
   "cell_type": "code",
   "execution_count": 426,
   "metadata": {},
   "outputs": [
    {
     "name": "stdout",
     "output_type": "stream",
     "text": [
      "(288, 3)\n"
     ]
    },
    {
     "data": {
      "text/html": [
       "<div>\n",
       "<style scoped>\n",
       "    .dataframe tbody tr th:only-of-type {\n",
       "        vertical-align: middle;\n",
       "    }\n",
       "\n",
       "    .dataframe tbody tr th {\n",
       "        vertical-align: top;\n",
       "    }\n",
       "\n",
       "    .dataframe thead th {\n",
       "        text-align: right;\n",
       "    }\n",
       "</style>\n",
       "<table border=\"1\" class=\"dataframe\">\n",
       "  <thead>\n",
       "    <tr style=\"text-align: right;\">\n",
       "      <th></th>\n",
       "      <th>Postcode</th>\n",
       "      <th>Borough</th>\n",
       "      <th>Neighbourhood</th>\n",
       "    </tr>\n",
       "  </thead>\n",
       "  <tbody>\n",
       "    <tr>\n",
       "      <th>0</th>\n",
       "      <td>M1A</td>\n",
       "      <td>Not assigned</td>\n",
       "      <td>Not assigned</td>\n",
       "    </tr>\n",
       "    <tr>\n",
       "      <th>1</th>\n",
       "      <td>M2A</td>\n",
       "      <td>Not assigned</td>\n",
       "      <td>Not assigned</td>\n",
       "    </tr>\n",
       "    <tr>\n",
       "      <th>2</th>\n",
       "      <td>M3A</td>\n",
       "      <td>North York</td>\n",
       "      <td>Parkwoods</td>\n",
       "    </tr>\n",
       "    <tr>\n",
       "      <th>3</th>\n",
       "      <td>M4A</td>\n",
       "      <td>North York</td>\n",
       "      <td>Victoria Village</td>\n",
       "    </tr>\n",
       "    <tr>\n",
       "      <th>4</th>\n",
       "      <td>M5A</td>\n",
       "      <td>Downtown Toronto</td>\n",
       "      <td>Harbourfront</td>\n",
       "    </tr>\n",
       "  </tbody>\n",
       "</table>\n",
       "</div>"
      ],
      "text/plain": [
       "  Postcode           Borough     Neighbourhood\n",
       "0      M1A      Not assigned      Not assigned\n",
       "1      M2A      Not assigned      Not assigned\n",
       "2      M3A        North York         Parkwoods\n",
       "3      M4A        North York  Victoria Village\n",
       "4      M5A  Downtown Toronto      Harbourfront"
      ]
     },
     "execution_count": 426,
     "metadata": {},
     "output_type": "execute_result"
    }
   ],
   "source": [
    "table = soup.findChildren(\"table\")[0]\n",
    "rows = []\n",
    "for row in table.find_all(\"tr\"):\n",
    "        temp = []\n",
    "        elems = row.find_all(\"td\")\n",
    "        for elem in elems:\n",
    "            if elems[-1] == elem:\n",
    "                text = elem.text\n",
    "                text = text[:-1]\n",
    "                temp.append(text)\n",
    "            else:\n",
    "                temp.append(elem.text)\n",
    "        rows.append(temp)\n",
    "    \n",
    "df = pd.DataFrame.from_records(rows[1:])\n",
    "headers = [head.text for head in table.find_all(\"th\")]\n",
    "headers[-1] = headers[-1][:-1]\n",
    "df.columns = headers\n",
    "\n",
    "print(df.shape)\n",
    "df.head()"
   ]
  },
  {
   "cell_type": "markdown",
   "metadata": {},
   "source": [
    "Dropping all the \"Not assigned\" boroughs and assign the borough names for neighbourhoods that lack a name"
   ]
  },
  {
   "cell_type": "code",
   "execution_count": 427,
   "metadata": {},
   "outputs": [
    {
     "name": "stdout",
     "output_type": "stream",
     "text": [
      "(211, 3)\n"
     ]
    }
   ],
   "source": [
    "mask = df[\"Borough\"] != \"Not assigned\"\n",
    "df = df[mask]\n",
    "print(df.shape)\n",
    "df.head()\n",
    "\n",
    "row = df[df[\"Neighbourhood\"] == \"Not assigned\"]\n",
    "df.at[row.index, \"Neighbourhood\"] = row.Borough.values[0]"
   ]
  },
  {
   "cell_type": "markdown",
   "metadata": {},
   "source": [
    "Gather all the unique postal code values"
   ]
  },
  {
   "cell_type": "code",
   "execution_count": 428,
   "metadata": {},
   "outputs": [
    {
     "name": "stdout",
     "output_type": "stream",
     "text": [
      "['M3A' 'M4A' 'M5A' 'M6A' 'M7A' 'M9A' 'M1B' 'M3B' 'M4B' 'M5B' 'M6B' 'M9B'\n",
      " 'M1C' 'M3C' 'M4C' 'M5C' 'M6C' 'M9C' 'M1E' 'M4E' 'M5E' 'M6E' 'M1G' 'M4G'\n",
      " 'M5G' 'M6G' 'M1H' 'M2H' 'M3H' 'M4H' 'M5H' 'M6H' 'M1J' 'M2J' 'M3J' 'M4J'\n",
      " 'M5J' 'M6J' 'M1K' 'M2K' 'M3K' 'M4K' 'M5K' 'M6K' 'M1L' 'M2L' 'M3L' 'M4L'\n",
      " 'M5L' 'M6L' 'M9L' 'M1M' 'M2M' 'M3M' 'M4M' 'M5M' 'M6M' 'M9M' 'M1N' 'M2N'\n",
      " 'M3N' 'M4N' 'M5N' 'M6N' 'M9N' 'M1P' 'M2P' 'M4P' 'M5P' 'M6P' 'M9P' 'M1R'\n",
      " 'M2R' 'M4R' 'M5R' 'M6R' 'M7R' 'M9R' 'M1S' 'M4S' 'M5S' 'M6S' 'M1T' 'M4T'\n",
      " 'M5T' 'M1V' 'M4V' 'M5V' 'M8V' 'M9V' 'M1W' 'M4W' 'M5W' 'M8W' 'M9W' 'M1X'\n",
      " 'M4X' 'M5X' 'M8X' 'M4Y' 'M7Y' 'M8Y' 'M8Z']\n"
     ]
    }
   ],
   "source": [
    "code_list = df[\"Postcode\"].unique()\n",
    "print(code_list)"
   ]
  },
  {
   "cell_type": "markdown",
   "metadata": {},
   "source": [
    "Drop all duplicates and assign new neighbourhood column with the join neighbourhood data "
   ]
  },
  {
   "cell_type": "code",
   "execution_count": 429,
   "metadata": {},
   "outputs": [
    {
     "name": "stdout",
     "output_type": "stream",
     "text": [
      "Number of Unique Postal Codes: 103\n"
     ]
    },
    {
     "name": "stderr",
     "output_type": "stream",
     "text": [
      "C:\\Users\\Schmuck\\Anaconda3\\lib\\site-packages\\ipykernel_launcher.py:10: SettingWithCopyWarning: \n",
      "A value is trying to be set on a copy of a slice from a DataFrame.\n",
      "Try using .loc[row_indexer,col_indexer] = value instead\n",
      "\n",
      "See the caveats in the documentation: http://pandas.pydata.org/pandas-docs/stable/indexing.html#indexing-view-versus-copy\n",
      "  # Remove the CWD from sys.path while we load stuff.\n"
     ]
    },
    {
     "data": {
      "text/html": [
       "<div>\n",
       "<style scoped>\n",
       "    .dataframe tbody tr th:only-of-type {\n",
       "        vertical-align: middle;\n",
       "    }\n",
       "\n",
       "    .dataframe tbody tr th {\n",
       "        vertical-align: top;\n",
       "    }\n",
       "\n",
       "    .dataframe thead th {\n",
       "        text-align: right;\n",
       "    }\n",
       "</style>\n",
       "<table border=\"1\" class=\"dataframe\">\n",
       "  <thead>\n",
       "    <tr style=\"text-align: right;\">\n",
       "      <th></th>\n",
       "      <th>Postcode</th>\n",
       "      <th>Borough</th>\n",
       "      <th>Neighbourhood</th>\n",
       "    </tr>\n",
       "  </thead>\n",
       "  <tbody>\n",
       "    <tr>\n",
       "      <th>0</th>\n",
       "      <td>M3A</td>\n",
       "      <td>North York</td>\n",
       "      <td>Parkwoods</td>\n",
       "    </tr>\n",
       "    <tr>\n",
       "      <th>1</th>\n",
       "      <td>M4A</td>\n",
       "      <td>North York</td>\n",
       "      <td>Victoria Village</td>\n",
       "    </tr>\n",
       "    <tr>\n",
       "      <th>2</th>\n",
       "      <td>M5A</td>\n",
       "      <td>Downtown Toronto</td>\n",
       "      <td>Harbourfront,Regent Park</td>\n",
       "    </tr>\n",
       "    <tr>\n",
       "      <th>3</th>\n",
       "      <td>M6A</td>\n",
       "      <td>North York</td>\n",
       "      <td>Lawrence Heights,Lawrence Manor</td>\n",
       "    </tr>\n",
       "    <tr>\n",
       "      <th>4</th>\n",
       "      <td>M7A</td>\n",
       "      <td>Queen's Park</td>\n",
       "      <td>Queen's Park</td>\n",
       "    </tr>\n",
       "  </tbody>\n",
       "</table>\n",
       "</div>"
      ],
      "text/plain": [
       "  Postcode           Borough                    Neighbourhood\n",
       "0      M3A        North York                        Parkwoods\n",
       "1      M4A        North York                 Victoria Village\n",
       "2      M5A  Downtown Toronto         Harbourfront,Regent Park\n",
       "3      M6A        North York  Lawrence Heights,Lawrence Manor\n",
       "4      M7A      Queen's Park                     Queen's Park"
      ]
     },
     "execution_count": 429,
     "metadata": {},
     "output_type": "execute_result"
    }
   ],
   "source": [
    "df_dropped = df.drop_duplicates([\"Postcode\"], keep = \"first\")\n",
    "df_dropped.drop(\"Neighbourhood\", axis = 1, inplace = True)\n",
    "print(\"Number of Unique Postal Codes: {}\".format(df_dropped.shape[0]))\n",
    "\n",
    "neighbourhoods = []\n",
    "\n",
    "for code in code_list:\n",
    "    hoods = df[\"Neighbourhood\"][df[\"Postcode\"] == code].values\n",
    "    neighbourhoods.append(\",\".join(hoods))\n",
    "df_dropped[\"Neighbourhood\"] = neighbourhoods\n",
    "df_dropped.reset_index(drop = True, inplace = True)\n",
    "df_dropped.head()"
   ]
  },
  {
   "cell_type": "markdown",
   "metadata": {},
   "source": [
    "Printing shape of the dataset"
   ]
  },
  {
   "cell_type": "code",
   "execution_count": 430,
   "metadata": {},
   "outputs": [
    {
     "name": "stdout",
     "output_type": "stream",
     "text": [
      "(103, 3)\n"
     ]
    }
   ],
   "source": [
    "df = df_dropped\n",
    "print(df.shape)\n",
    "\n",
    "# # df.drop([\"Latitude\", \"Longitude\"], axis = 1, inplace = True)\n",
    "# df.head()"
   ]
  },
  {
   "cell_type": "code",
   "execution_count": 431,
   "metadata": {},
   "outputs": [],
   "source": [
    "# Tried to run geocoder, loop ran for 30 seconds with no output on a single postal code. Decided to simply use the csv provided\n",
    "\n",
    "# import geocoder\n",
    "\n",
    "# coords = None\n",
    "\n",
    "# while coords is None:\n",
    "#     g = geocoder.google(\"M2K, Toronto, Ontario\")\n",
    "#     coords = g.latlng\n",
    "# print(coords)"
   ]
  },
  {
   "cell_type": "markdown",
   "metadata": {},
   "source": [
    "Using join method to create a new dataframe of the existing data along with the latitude and longitude data."
   ]
  },
  {
   "cell_type": "code",
   "execution_count": 432,
   "metadata": {},
   "outputs": [
    {
     "data": {
      "text/html": [
       "<div>\n",
       "<style scoped>\n",
       "    .dataframe tbody tr th:only-of-type {\n",
       "        vertical-align: middle;\n",
       "    }\n",
       "\n",
       "    .dataframe tbody tr th {\n",
       "        vertical-align: top;\n",
       "    }\n",
       "\n",
       "    .dataframe thead th {\n",
       "        text-align: right;\n",
       "    }\n",
       "</style>\n",
       "<table border=\"1\" class=\"dataframe\">\n",
       "  <thead>\n",
       "    <tr style=\"text-align: right;\">\n",
       "      <th></th>\n",
       "      <th>Postcode</th>\n",
       "      <th>Borough</th>\n",
       "      <th>Neighbourhood</th>\n",
       "      <th>Latitude</th>\n",
       "      <th>Longitude</th>\n",
       "    </tr>\n",
       "  </thead>\n",
       "  <tbody>\n",
       "    <tr>\n",
       "      <th>0</th>\n",
       "      <td>M1B</td>\n",
       "      <td>Scarborough</td>\n",
       "      <td>Rouge,Malvern</td>\n",
       "      <td>43.806686</td>\n",
       "      <td>-79.194353</td>\n",
       "    </tr>\n",
       "    <tr>\n",
       "      <th>1</th>\n",
       "      <td>M1C</td>\n",
       "      <td>Scarborough</td>\n",
       "      <td>Highland Creek,Rouge Hill,Port Union</td>\n",
       "      <td>43.784535</td>\n",
       "      <td>-79.160497</td>\n",
       "    </tr>\n",
       "    <tr>\n",
       "      <th>2</th>\n",
       "      <td>M1E</td>\n",
       "      <td>Scarborough</td>\n",
       "      <td>Guildwood,Morningside,West Hill</td>\n",
       "      <td>43.763573</td>\n",
       "      <td>-79.188711</td>\n",
       "    </tr>\n",
       "    <tr>\n",
       "      <th>3</th>\n",
       "      <td>M1G</td>\n",
       "      <td>Scarborough</td>\n",
       "      <td>Woburn</td>\n",
       "      <td>43.770992</td>\n",
       "      <td>-79.216917</td>\n",
       "    </tr>\n",
       "    <tr>\n",
       "      <th>4</th>\n",
       "      <td>M1H</td>\n",
       "      <td>Scarborough</td>\n",
       "      <td>Cedarbrae</td>\n",
       "      <td>43.773136</td>\n",
       "      <td>-79.239476</td>\n",
       "    </tr>\n",
       "  </tbody>\n",
       "</table>\n",
       "</div>"
      ],
      "text/plain": [
       "  Postcode      Borough                         Neighbourhood   Latitude  \\\n",
       "0      M1B  Scarborough                         Rouge,Malvern  43.806686   \n",
       "1      M1C  Scarborough  Highland Creek,Rouge Hill,Port Union  43.784535   \n",
       "2      M1E  Scarborough       Guildwood,Morningside,West Hill  43.763573   \n",
       "3      M1G  Scarborough                                Woburn  43.770992   \n",
       "4      M1H  Scarborough                             Cedarbrae  43.773136   \n",
       "\n",
       "   Longitude  \n",
       "0 -79.194353  \n",
       "1 -79.160497  \n",
       "2 -79.188711  \n",
       "3 -79.216917  \n",
       "4 -79.239476  "
      ]
     },
     "execution_count": 432,
     "metadata": {},
     "output_type": "execute_result"
    }
   ],
   "source": [
    "latLon = pd.read_csv(\"Geospatial_Coordinates.csv\")\n",
    "latLon.head()\n",
    "\n",
    "latLon.sort_values(by = \"Postal Code\", inplace = True)\n",
    "df.sort_values(by = \"Postcode\", inplace = True)\n",
    "\n",
    "df = df.join(latLon.set_index(\"Postal Code\"), on = \"Postcode\")\n",
    "df.reset_index(drop = True, inplace = True)\n",
    "df.head()"
   ]
  },
  {
   "cell_type": "markdown",
   "metadata": {},
   "source": [
    "Practice requesting data from the Foursquare API using the first location in DataFrame"
   ]
  },
  {
   "cell_type": "code",
   "execution_count": 433,
   "metadata": {},
   "outputs": [],
   "source": [
    "import requests\n",
    "import json\n",
    "\n",
    "ll = df.iloc[0][[\"Latitude\", \"Longitude\"]].values\n",
    "value = \",\".join(str(val) for val in ll)\n",
    "\n",
    "url = \"https://api.foursquare.com/v2/venues/explore\"\n",
    "params = dict(\n",
    "    client_id = 'W5CHCMS4RL2BMAQVYOORLJQCF4XLGWK42SDQWAG1XFLX2LRV',\n",
    "    client_secret = 'BVUEP1F3ZHWSQGN24XBSDK0GK15CBU2OJZ53VLQIR4PQQQ4U',\n",
    "    v = '20180323',\n",
    "    ll = value,\n",
    "    limit = 10,\n",
    "    radius = 600)\n",
    "\n",
    "# print(params)\n",
    "req = requests.get(url = url, params = params)\n",
    "data = json.loads(req.text)"
   ]
  },
  {
   "cell_type": "markdown",
   "metadata": {},
   "source": [
    "Showing all data in response section of json file with their respective keys"
   ]
  },
  {
   "cell_type": "code",
   "execution_count": 434,
   "metadata": {},
   "outputs": [
    {
     "name": "stdout",
     "output_type": "stream",
     "text": [
      "--headerLocation--\n",
      "Malvern \n",
      "\n",
      "--headerFullLocation--\n",
      "Malvern, Toronto \n",
      "\n",
      "--headerLocationGranularity--\n",
      "neighborhood \n",
      "\n",
      "--totalResults--\n",
      "4 \n",
      "\n",
      "--suggestedBounds--\n",
      "{'ne': {'lat': 43.8120863054, 'lng': -79.1868848168765}, 'sw': {'lat': 43.80128629459999, 'lng': -79.20182198312352}} \n",
      "\n",
      "--groups--\n",
      "[{'type': 'Recommended Places', 'name': 'recommended', 'items': [{'reasons': {'count': 0, 'items': [{'summary': 'This spot is popular', 'type': 'general', 'reasonName': 'globalInteractionReason'}]}, 'venue': {'id': '4d669cba83865481c948fa53', 'name': 'Images Salon & Spa', 'contact': {}, 'location': {'address': '8130 Sheppard Ave E', 'crossStreet': 'Morningside Ave', 'lat': 43.80228301948931, 'lng': -79.19856472801668, 'labeledLatLngs': [{'label': 'display', 'lat': 43.80228301948931, 'lng': -79.19856472801668}], 'distance': 595, 'postalCode': 'M1B 3W3', 'cc': 'CA', 'city': 'Toronto', 'state': 'ON', 'country': 'Canada', 'formattedAddress': ['8130 Sheppard Ave E (Morningside Ave)', 'Toronto ON M1B 3W3', 'Canada']}, 'categories': [{'id': '4bf58dd8d48988d1ed941735', 'name': 'Spa', 'pluralName': 'Spas', 'shortName': 'Spa', 'icon': {'prefix': 'https://ss3.4sqi.net/img/categories_v2/shops/spa_', 'suffix': '.png'}, 'primary': True}], 'verified': False, 'stats': {'tipCount': 0, 'usersCount': 0, 'checkinsCount': 0, 'visitsCount': 0}, 'beenHere': {'count': 0, 'lastCheckinExpiredAt': 0, 'marked': False, 'unconfirmedCount': 0}, 'photos': {'count': 0, 'groups': []}, 'hereNow': {'count': 0, 'summary': 'Nobody here', 'groups': []}}, 'referralId': 'e-0-4d669cba83865481c948fa53-0'}, {'reasons': {'count': 0, 'items': [{'summary': 'This spot is popular', 'type': 'general', 'reasonName': 'globalInteractionReason'}]}, 'venue': {'id': '4bb6b9446edc76b0d771311c', 'name': \"Wendy's\", 'contact': {}, 'location': {'crossStreet': 'Morningside & Sheppard', 'lat': 43.80744841934756, 'lng': -79.19905558052072, 'labeledLatLngs': [{'label': 'display', 'lat': 43.80744841934756, 'lng': -79.19905558052072}], 'distance': 387, 'cc': 'CA', 'city': 'Toronto', 'state': 'ON', 'country': 'Canada', 'formattedAddress': ['Toronto ON', 'Canada']}, 'categories': [{'id': '4bf58dd8d48988d16e941735', 'name': 'Fast Food Restaurant', 'pluralName': 'Fast Food Restaurants', 'shortName': 'Fast Food', 'icon': {'prefix': 'https://ss3.4sqi.net/img/categories_v2/food/fastfood_', 'suffix': '.png'}, 'primary': True}], 'verified': False, 'stats': {'tipCount': 0, 'usersCount': 0, 'checkinsCount': 0, 'visitsCount': 0}, 'beenHere': {'count': 0, 'lastCheckinExpiredAt': 0, 'marked': False, 'unconfirmedCount': 0}, 'photos': {'count': 0, 'groups': []}, 'hereNow': {'count': 0, 'summary': 'Nobody here', 'groups': []}}, 'referralId': 'e-0-4bb6b9446edc76b0d771311c-1'}, {'reasons': {'count': 0, 'items': [{'summary': 'This spot is popular', 'type': 'general', 'reasonName': 'globalInteractionReason'}]}, 'venue': {'id': '579a91b3498e9bd833afa78a', 'name': \"Wendy's\", 'contact': {}, 'location': {'address': '8129 Sheppard Avenue', 'lat': 43.8020084, 'lng': -79.1980797, 'labeledLatLngs': [{'label': 'display', 'lat': 43.8020084, 'lng': -79.1980797}], 'distance': 600, 'postalCode': 'M1B 6A3', 'cc': 'CA', 'city': 'Scarborough', 'state': 'ON', 'country': 'Canada', 'formattedAddress': ['8129 Sheppard Avenue', 'Scarborough ON M1B 6A3', 'Canada']}, 'categories': [{'id': '4bf58dd8d48988d16e941735', 'name': 'Fast Food Restaurant', 'pluralName': 'Fast Food Restaurants', 'shortName': 'Fast Food', 'icon': {'prefix': 'https://ss3.4sqi.net/img/categories_v2/food/fastfood_', 'suffix': '.png'}, 'primary': True}], 'verified': True, 'stats': {'tipCount': 0, 'usersCount': 0, 'checkinsCount': 0, 'visitsCount': 0}, 'beenHere': {'count': 0, 'lastCheckinExpiredAt': 0, 'marked': False, 'unconfirmedCount': 0}, 'photos': {'count': 0, 'groups': []}, 'hereNow': {'count': 0, 'summary': 'Nobody here', 'groups': []}}, 'referralId': 'e-0-579a91b3498e9bd833afa78a-2'}, {'reasons': {'count': 0, 'items': [{'summary': 'This spot is popular', 'type': 'general', 'reasonName': 'globalInteractionReason'}]}, 'venue': {'id': '4bd08ceeb221c9b6cbe8d3d0', 'name': 'Lee Valley', 'contact': {}, 'location': {'address': '1275 Morningside', 'lat': 43.803161304831846, 'lng': -79.19968142252247, 'labeledLatLngs': [{'label': 'display', 'lat': 43.803161304831846, 'lng': -79.19968142252247}], 'distance': 580, 'cc': 'CA', 'city': 'Toronto', 'state': 'ON', 'country': 'Canada', 'formattedAddress': ['1275 Morningside', 'Toronto ON', 'Canada']}, 'categories': [{'id': '4bf58dd8d48988d1fb941735', 'name': 'Hobby Shop', 'pluralName': 'Hobby Shops', 'shortName': 'Hobbies', 'icon': {'prefix': 'https://ss3.4sqi.net/img/categories_v2/shops/hobbyshop_', 'suffix': '.png'}, 'primary': True}], 'verified': False, 'stats': {'tipCount': 0, 'usersCount': 0, 'checkinsCount': 0, 'visitsCount': 0}, 'beenHere': {'count': 0, 'lastCheckinExpiredAt': 0, 'marked': False, 'unconfirmedCount': 0}, 'photos': {'count': 0, 'groups': []}, 'hereNow': {'count': 0, 'summary': 'Nobody here', 'groups': []}}, 'referralId': 'e-0-4bd08ceeb221c9b6cbe8d3d0-3'}]}] \n",
      "\n"
     ]
    }
   ],
   "source": [
    "keys = data[\"response\"].keys()\n",
    "\n",
    "for key in keys:\n",
    "    print(\"--\" + key + \"--\")\n",
    "    print(data[\"response\"][key], \"\\n\")"
   ]
  },
  {
   "cell_type": "markdown",
   "metadata": {},
   "source": [
    "\n",
    "\n",
    "The section \"group\" seems to have the majority of the valuable information contained in it. \n",
    "\n",
    "The total results section would be an interesting thing to explore as it can be an indicator of density in the given radius.\n",
    "\n",
    "Further investigating the \"groups\" section to understand json file structure"
   ]
  },
  {
   "cell_type": "code",
   "execution_count": 435,
   "metadata": {},
   "outputs": [
    {
     "name": "stdout",
     "output_type": "stream",
     "text": [
      "--id--\n",
      "4d669cba83865481c948fa53 \n",
      "\n",
      "--name--\n",
      "Images Salon & Spa \n",
      "\n",
      "--contact--\n",
      "{} \n",
      "\n",
      "--location--\n",
      "{'address': '8130 Sheppard Ave E', 'crossStreet': 'Morningside Ave', 'lat': 43.80228301948931, 'lng': -79.19856472801668, 'labeledLatLngs': [{'label': 'display', 'lat': 43.80228301948931, 'lng': -79.19856472801668}], 'distance': 595, 'postalCode': 'M1B 3W3', 'cc': 'CA', 'city': 'Toronto', 'state': 'ON', 'country': 'Canada', 'formattedAddress': ['8130 Sheppard Ave E (Morningside Ave)', 'Toronto ON M1B 3W3', 'Canada']} \n",
      "\n",
      "--categories--\n",
      "[{'id': '4bf58dd8d48988d1ed941735', 'name': 'Spa', 'pluralName': 'Spas', 'shortName': 'Spa', 'icon': {'prefix': 'https://ss3.4sqi.net/img/categories_v2/shops/spa_', 'suffix': '.png'}, 'primary': True}] \n",
      "\n",
      "--verified--\n",
      "False \n",
      "\n",
      "--stats--\n",
      "{'tipCount': 0, 'usersCount': 0, 'checkinsCount': 0, 'visitsCount': 0} \n",
      "\n",
      "--beenHere--\n",
      "{'count': 0, 'lastCheckinExpiredAt': 0, 'marked': False, 'unconfirmedCount': 0} \n",
      "\n",
      "--photos--\n",
      "{'count': 0, 'groups': []} \n",
      "\n",
      "--hereNow--\n",
      "{'count': 0, 'summary': 'Nobody here', 'groups': []} \n",
      "\n"
     ]
    }
   ],
   "source": [
    "\n",
    "results = data[\"response\"][\"groups\"][0][\"items\"]\n",
    "venue_keys = list(results[0]['venue'].keys())\n",
    "for key in venue_keys:\n",
    "    print(\"--{}--\".format(key))\n",
    "    print(results[0][\"venue\"][key], \"\\n\")"
   ]
  },
  {
   "cell_type": "markdown",
   "metadata": {},
   "source": [
    "Simlar to the New York city example. Grabbing the types of places in the area will be a good feature to draw on. Another feature could be the amount of check ins or visits that a venue has. Could be an indicator of community engagment. Let's check out some other neighborhoods and see how our results differ from this one. There were only 4 results returned here which seems like a small amount.\n",
    "\n",
    "First lets make it easier to grab and format the lat and long values from our DataFrame with a quick function and a function to make requests easier"
   ]
  },
  {
   "cell_type": "code",
   "execution_count": 676,
   "metadata": {},
   "outputs": [],
   "source": [
    "### Takes in a row number, i,  and returns the corresponding lat and long values\n",
    "def get_lat_long(i):\n",
    "    ll = df.iloc[i][[\"Latitude\", \"Longitude\"]].values\n",
    "    return \",\".join(str(val) for val in ll)\n",
    "\n",
    "### Lets also make a quick way to request from the Foursquare API\n",
    "#Input : value - row number we want to learn about\n",
    "#        rad (optional: default = .5 mile) - radius around search point\n",
    "#        limit (optional: default = 15) - number of results to output from the API\n",
    "#Output:\n",
    "#       num_results - number of results from request\n",
    "#       data - \"important\" data from the groups section of the json file\n",
    "\n",
    "def makeRequest(value, rad = 805, limit = 15):\n",
    "    ll = get_lat_long(value)\n",
    "    url = \"https://api.foursquare.com/v2/venues/explore\"\n",
    "    params = dict(\n",
    "        client_id = 'W5CHCMS4RL2BMAQVYOORLJQCF4XLGWK42SDQWAG1XFLX2LRV',\n",
    "        client_secret = 'BVUEP1F3ZHWSQGN24XBSDK0GK15CBU2OJZ53VLQIR4PQQQ4U',\n",
    "        v = '20180323',\n",
    "        ll = ll,\n",
    "        limit = limit,\n",
    "        radius = rad)\n",
    "    req = requests.get(url = url, params = params)\n",
    "    data = json.loads(req.text)[\"response\"]\n",
    "    try:\n",
    "        total = data[\"totalResults\"]\n",
    "    except:\n",
    "        total = 0\n",
    "    return total, data[\"groups\"]"
   ]
  },
  {
   "cell_type": "markdown",
   "metadata": {},
   "source": [
    "\n",
    "Lets test it out on a couple more rows"
   ]
  },
  {
   "cell_type": "code",
   "execution_count": 677,
   "metadata": {},
   "outputs": [
    {
     "name": "stdout",
     "output_type": "stream",
     "text": [
      "Number of Results from Request: 17\n",
      "Number of Results from Request: 13\n",
      "Number of Results from Request: 236\n",
      "Number of Results from Request: 50\n",
      "Number of Results from Request: 11\n",
      "Number of Results from Request: 13\n"
     ]
    }
   ],
   "source": [
    "# Random numbers\n",
    "test_rows = [10, 36, 58, 86, 99, 101]\n",
    "for row in test_rows:\n",
    "    n, new_data = makeRequest(row)\n",
    "    print(\"Number of Results from Request: {}\".format(n))"
   ]
  },
  {
   "cell_type": "markdown",
   "metadata": {},
   "source": [
    "There seems to be a good variety of result sizes. Now lets check out all the neighborhood location on a map"
   ]
  },
  {
   "cell_type": "code",
   "execution_count": 763,
   "metadata": {},
   "outputs": [
    {
     "data": {
      "text/html": [
       "<div style=\"width:100%;\"><div style=\"position:relative;width:100%;height:0;padding-bottom:60%;\"><iframe src=\"data:text/html;charset=utf-8;base64,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\" style=\"position:absolute;width:100%;height:100%;left:0;top:0;border:none !important;\" allowfullscreen webkitallowfullscreen mozallowfullscreen></iframe></div></div>"
      ],
      "text/plain": [
       "<folium.folium.Map at 0x16439694128>"
      ]
     },
     "execution_count": 763,
     "metadata": {},
     "output_type": "execute_result"
    }
   ],
   "source": [
    "toronto_lat_long = [43.7, -79.4]\n",
    "m = folium.Map(location = toronto_lat_long, zoom_start = 11, tiles = \"Stamen Toner\")\n",
    "\n",
    "for row in range(df.shape[0]):\n",
    "    folium.Circle(location = df.iloc[row][[\"Latitude\", \"Longitude\"]].values,\n",
    "                  color = \"crimson\", \n",
    "                  popup = df.iloc[row][\"Neighbourhood\"],\n",
    "                  fill = True,\n",
    "                  radius = 90).add_to(m)\n",
    "m"
   ]
  },
  {
   "cell_type": "markdown",
   "metadata": {
    "collapsed": true
   },
   "source": [
    "Lets grab all the information that we are interested in and put it in a single DataFrame to work with moving forward."
   ]
  },
  {
   "cell_type": "code",
   "execution_count": 715,
   "metadata": {},
   "outputs": [],
   "source": [
    "records = []\n",
    "\n",
    "for row in range(df.shape[0]):\n",
    "#     print(row)\n",
    "    n, data = makeRequest(row)\n",
    "    data = data[0][\"items\"]\n",
    "    for venue in data:\n",
    "        records.append([\n",
    "            df.iloc[row][\"Neighbourhood\"],\n",
    "            venue[\"venue\"][\"name\"],\n",
    "            venue[\"venue\"][\"categories\"][0][\"name\"],\n",
    "            venue[\"venue\"][\"beenHere\"][\"count\"], #Need to see if any values besides 0 show up in data\n",
    "            venue[\"venue\"][\"location\"][\"distance\"],\n",
    "            n,\n",
    "        ])"
   ]
  },
  {
   "cell_type": "markdown",
   "metadata": {},
   "source": [
    "We will turn it into a DataFrame and make give it some column names"
   ]
  },
  {
   "cell_type": "code",
   "execution_count": 720,
   "metadata": {},
   "outputs": [
    {
     "name": "stdout",
     "output_type": "stream",
     "text": [
      "(1305, 6)\n"
     ]
    },
    {
     "data": {
      "text/html": [
       "<div>\n",
       "<style scoped>\n",
       "    .dataframe tbody tr th:only-of-type {\n",
       "        vertical-align: middle;\n",
       "    }\n",
       "\n",
       "    .dataframe tbody tr th {\n",
       "        vertical-align: top;\n",
       "    }\n",
       "\n",
       "    .dataframe thead th {\n",
       "        text-align: right;\n",
       "    }\n",
       "</style>\n",
       "<table border=\"1\" class=\"dataframe\">\n",
       "  <thead>\n",
       "    <tr style=\"text-align: right;\">\n",
       "      <th></th>\n",
       "      <th>Neighbourhood</th>\n",
       "      <th>Venue Name</th>\n",
       "      <th>Venue Category</th>\n",
       "      <th>Been Here</th>\n",
       "      <th>Distance from Query</th>\n",
       "      <th>Total Query Results</th>\n",
       "    </tr>\n",
       "  </thead>\n",
       "  <tbody>\n",
       "    <tr>\n",
       "      <th>0</th>\n",
       "      <td>Rouge,Malvern</td>\n",
       "      <td>Images Salon &amp; Spa</td>\n",
       "      <td>Spa</td>\n",
       "      <td>0</td>\n",
       "      <td>595</td>\n",
       "      <td>12</td>\n",
       "    </tr>\n",
       "    <tr>\n",
       "      <th>1</th>\n",
       "      <td>Rouge,Malvern</td>\n",
       "      <td>Wendy's</td>\n",
       "      <td>Fast Food Restaurant</td>\n",
       "      <td>0</td>\n",
       "      <td>387</td>\n",
       "      <td>12</td>\n",
       "    </tr>\n",
       "    <tr>\n",
       "      <th>2</th>\n",
       "      <td>Rouge,Malvern</td>\n",
       "      <td>Wendy's</td>\n",
       "      <td>Fast Food Restaurant</td>\n",
       "      <td>0</td>\n",
       "      <td>600</td>\n",
       "      <td>12</td>\n",
       "    </tr>\n",
       "    <tr>\n",
       "      <th>3</th>\n",
       "      <td>Rouge,Malvern</td>\n",
       "      <td>Staples Morningside</td>\n",
       "      <td>Paper / Office Supplies Store</td>\n",
       "      <td>0</td>\n",
       "      <td>735</td>\n",
       "      <td>12</td>\n",
       "    </tr>\n",
       "    <tr>\n",
       "      <th>4</th>\n",
       "      <td>Rouge,Malvern</td>\n",
       "      <td>Harvey's</td>\n",
       "      <td>Fast Food Restaurant</td>\n",
       "      <td>0</td>\n",
       "      <td>796</td>\n",
       "      <td>12</td>\n",
       "    </tr>\n",
       "  </tbody>\n",
       "</table>\n",
       "</div>"
      ],
      "text/plain": [
       "   Neighbourhood           Venue Name                 Venue Category  \\\n",
       "0  Rouge,Malvern   Images Salon & Spa                            Spa   \n",
       "1  Rouge,Malvern              Wendy's           Fast Food Restaurant   \n",
       "2  Rouge,Malvern              Wendy's           Fast Food Restaurant   \n",
       "3  Rouge,Malvern  Staples Morningside  Paper / Office Supplies Store   \n",
       "4  Rouge,Malvern             Harvey's           Fast Food Restaurant   \n",
       "\n",
       "   Been Here  Distance from Query  Total Query Results  \n",
       "0          0                  595                   12  \n",
       "1          0                  387                   12  \n",
       "2          0                  600                   12  \n",
       "3          0                  735                   12  \n",
       "4          0                  796                   12  "
      ]
     },
     "execution_count": 720,
     "metadata": {},
     "output_type": "execute_result"
    }
   ],
   "source": [
    "data = pd.DataFrame.from_records(records)\n",
    "data.columns = [\"Neighbourhood\", \"Venue Name\", \"Venue Category\", \"Been Here\", \"Distance from Query\", \"Total Query Results\"]\n",
    "print(data.shape)\n",
    "data.head()"
   ]
  },
  {
   "cell_type": "markdown",
   "metadata": {},
   "source": [
    "It looks like all the been here data is 0. Not sure if that is an API issue or if I am pulling from the wrong area, but we will just have to throw that column out!"
   ]
  },
  {
   "cell_type": "code",
   "execution_count": 721,
   "metadata": {},
   "outputs": [
    {
     "data": {
      "text/html": [
       "<div>\n",
       "<style scoped>\n",
       "    .dataframe tbody tr th:only-of-type {\n",
       "        vertical-align: middle;\n",
       "    }\n",
       "\n",
       "    .dataframe tbody tr th {\n",
       "        vertical-align: top;\n",
       "    }\n",
       "\n",
       "    .dataframe thead th {\n",
       "        text-align: right;\n",
       "    }\n",
       "</style>\n",
       "<table border=\"1\" class=\"dataframe\">\n",
       "  <thead>\n",
       "    <tr style=\"text-align: right;\">\n",
       "      <th></th>\n",
       "      <th>Neighbourhood</th>\n",
       "      <th>Venue Name</th>\n",
       "      <th>Venue Category</th>\n",
       "      <th>Distance from Query</th>\n",
       "      <th>Total Query Results</th>\n",
       "    </tr>\n",
       "  </thead>\n",
       "  <tbody>\n",
       "    <tr>\n",
       "      <th>0</th>\n",
       "      <td>Rouge,Malvern</td>\n",
       "      <td>Images Salon &amp; Spa</td>\n",
       "      <td>Spa</td>\n",
       "      <td>595</td>\n",
       "      <td>12</td>\n",
       "    </tr>\n",
       "    <tr>\n",
       "      <th>1</th>\n",
       "      <td>Rouge,Malvern</td>\n",
       "      <td>Wendy's</td>\n",
       "      <td>Fast Food Restaurant</td>\n",
       "      <td>387</td>\n",
       "      <td>12</td>\n",
       "    </tr>\n",
       "    <tr>\n",
       "      <th>2</th>\n",
       "      <td>Rouge,Malvern</td>\n",
       "      <td>Wendy's</td>\n",
       "      <td>Fast Food Restaurant</td>\n",
       "      <td>600</td>\n",
       "      <td>12</td>\n",
       "    </tr>\n",
       "    <tr>\n",
       "      <th>3</th>\n",
       "      <td>Rouge,Malvern</td>\n",
       "      <td>Staples Morningside</td>\n",
       "      <td>Paper / Office Supplies Store</td>\n",
       "      <td>735</td>\n",
       "      <td>12</td>\n",
       "    </tr>\n",
       "    <tr>\n",
       "      <th>4</th>\n",
       "      <td>Rouge,Malvern</td>\n",
       "      <td>Harvey's</td>\n",
       "      <td>Fast Food Restaurant</td>\n",
       "      <td>796</td>\n",
       "      <td>12</td>\n",
       "    </tr>\n",
       "  </tbody>\n",
       "</table>\n",
       "</div>"
      ],
      "text/plain": [
       "   Neighbourhood           Venue Name                 Venue Category  \\\n",
       "0  Rouge,Malvern   Images Salon & Spa                            Spa   \n",
       "1  Rouge,Malvern              Wendy's           Fast Food Restaurant   \n",
       "2  Rouge,Malvern              Wendy's           Fast Food Restaurant   \n",
       "3  Rouge,Malvern  Staples Morningside  Paper / Office Supplies Store   \n",
       "4  Rouge,Malvern             Harvey's           Fast Food Restaurant   \n",
       "\n",
       "   Distance from Query  Total Query Results  \n",
       "0                  595                   12  \n",
       "1                  387                   12  \n",
       "2                  600                   12  \n",
       "3                  735                   12  \n",
       "4                  796                   12  "
      ]
     },
     "execution_count": 721,
     "metadata": {},
     "output_type": "execute_result"
    }
   ],
   "source": [
    "data.drop(\"Been Here\", axis = 1, inplace = True)\n",
    "data.head()"
   ]
  },
  {
   "cell_type": "markdown",
   "metadata": {},
   "source": [
    "Lets turn our distance from query into a boolean column that indicates if the location is within a quarter mile of the location that we searched. This should be an indicator of the density of the neighborhood. Could add more columns with smaller and/or larger distances, but I think this should be fine for now."
   ]
  },
  {
   "cell_type": "code",
   "execution_count": 722,
   "metadata": {},
   "outputs": [
    {
     "name": "stdout",
     "output_type": "stream",
     "text": [
      "(1305, 5)\n"
     ]
    },
    {
     "data": {
      "text/html": [
       "<div>\n",
       "<style scoped>\n",
       "    .dataframe tbody tr th:only-of-type {\n",
       "        vertical-align: middle;\n",
       "    }\n",
       "\n",
       "    .dataframe tbody tr th {\n",
       "        vertical-align: top;\n",
       "    }\n",
       "\n",
       "    .dataframe thead th {\n",
       "        text-align: right;\n",
       "    }\n",
       "</style>\n",
       "<table border=\"1\" class=\"dataframe\">\n",
       "  <thead>\n",
       "    <tr style=\"text-align: right;\">\n",
       "      <th></th>\n",
       "      <th>Neighbourhood</th>\n",
       "      <th>Venue Name</th>\n",
       "      <th>Venue Category</th>\n",
       "      <th>Total Query Results</th>\n",
       "      <th>Within .25 mile</th>\n",
       "    </tr>\n",
       "  </thead>\n",
       "  <tbody>\n",
       "    <tr>\n",
       "      <th>0</th>\n",
       "      <td>Rouge,Malvern</td>\n",
       "      <td>Images Salon &amp; Spa</td>\n",
       "      <td>Spa</td>\n",
       "      <td>12</td>\n",
       "      <td>0</td>\n",
       "    </tr>\n",
       "    <tr>\n",
       "      <th>1</th>\n",
       "      <td>Rouge,Malvern</td>\n",
       "      <td>Wendy's</td>\n",
       "      <td>Fast Food Restaurant</td>\n",
       "      <td>12</td>\n",
       "      <td>1</td>\n",
       "    </tr>\n",
       "    <tr>\n",
       "      <th>2</th>\n",
       "      <td>Rouge,Malvern</td>\n",
       "      <td>Wendy's</td>\n",
       "      <td>Fast Food Restaurant</td>\n",
       "      <td>12</td>\n",
       "      <td>0</td>\n",
       "    </tr>\n",
       "    <tr>\n",
       "      <th>3</th>\n",
       "      <td>Rouge,Malvern</td>\n",
       "      <td>Staples Morningside</td>\n",
       "      <td>Paper / Office Supplies Store</td>\n",
       "      <td>12</td>\n",
       "      <td>0</td>\n",
       "    </tr>\n",
       "    <tr>\n",
       "      <th>4</th>\n",
       "      <td>Rouge,Malvern</td>\n",
       "      <td>Harvey's</td>\n",
       "      <td>Fast Food Restaurant</td>\n",
       "      <td>12</td>\n",
       "      <td>0</td>\n",
       "    </tr>\n",
       "  </tbody>\n",
       "</table>\n",
       "</div>"
      ],
      "text/plain": [
       "   Neighbourhood           Venue Name                 Venue Category  \\\n",
       "0  Rouge,Malvern   Images Salon & Spa                            Spa   \n",
       "1  Rouge,Malvern              Wendy's           Fast Food Restaurant   \n",
       "2  Rouge,Malvern              Wendy's           Fast Food Restaurant   \n",
       "3  Rouge,Malvern  Staples Morningside  Paper / Office Supplies Store   \n",
       "4  Rouge,Malvern             Harvey's           Fast Food Restaurant   \n",
       "\n",
       "   Total Query Results  Within .25 mile  \n",
       "0                   12                0  \n",
       "1                   12                1  \n",
       "2                   12                0  \n",
       "3                   12                0  \n",
       "4                   12                0  "
      ]
     },
     "execution_count": 722,
     "metadata": {},
     "output_type": "execute_result"
    }
   ],
   "source": [
    "data[\"Within .25 mile\"] = pd.get_dummies(data[\"Distance from Query\"] < 403)[True]\n",
    "data.drop(\"Distance from Query\", axis = 1, inplace = True)\n",
    "print(data.shape)\n",
    "data.head()"
   ]
  },
  {
   "cell_type": "markdown",
   "metadata": {},
   "source": [
    "Determining the percentge of \"Unique\" venue in the area. Could be an indicator of how \"local\" vs \"corporate\" the establishments in the area are."
   ]
  },
  {
   "cell_type": "code",
   "execution_count": 723,
   "metadata": {},
   "outputs": [
    {
     "data": {
      "text/plain": [
       "Neighbourhood\n",
       "Adelaide,King,Richmond                                                                                    1.000000\n",
       "Agincourt                                                                                                 1.000000\n",
       "Agincourt North,L'Amoreaux East,Milliken,Steeles East                                                     1.000000\n",
       "Albion Gardens,Beaumond Heights,Humbergate,Jamestown,Mount Olive,Silverstone,South Steeles,Thistletown    0.923077\n",
       "Alderwood,Long Branch                                                                                     1.000000\n",
       "Name: Unique Percent, dtype: float64"
      ]
     },
     "execution_count": 723,
     "metadata": {},
     "output_type": "execute_result"
    }
   ],
   "source": [
    "uniquePercent = data.groupby(\"Neighbourhood\")[\"Venue Name\"].nunique()/data.groupby(\"Neighbourhood\")[\"Venue Name\"].count()\n",
    "uniquePercent.rename(\"Unique Percent\", inplace = True)\n",
    "uniquePercent.head()"
   ]
  },
  {
   "cell_type": "markdown",
   "metadata": {},
   "source": [
    "Lets find the average value of the types of venues in the area and adding the other categories to our final dataset"
   ]
  },
  {
   "cell_type": "code",
   "execution_count": 724,
   "metadata": {},
   "outputs": [
    {
     "name": "stdout",
     "output_type": "stream",
     "text": [
      "(102, 228)\n"
     ]
    },
    {
     "data": {
      "text/html": [
       "<div>\n",
       "<style scoped>\n",
       "    .dataframe tbody tr th:only-of-type {\n",
       "        vertical-align: middle;\n",
       "    }\n",
       "\n",
       "    .dataframe tbody tr th {\n",
       "        vertical-align: top;\n",
       "    }\n",
       "\n",
       "    .dataframe thead th {\n",
       "        text-align: right;\n",
       "    }\n",
       "</style>\n",
       "<table border=\"1\" class=\"dataframe\">\n",
       "  <thead>\n",
       "    <tr style=\"text-align: right;\">\n",
       "      <th></th>\n",
       "      <th>Afghan Restaurant</th>\n",
       "      <th>Airport</th>\n",
       "      <th>Airport Food Court</th>\n",
       "      <th>Airport Gate</th>\n",
       "      <th>Airport Lounge</th>\n",
       "      <th>Airport Terminal</th>\n",
       "      <th>American Restaurant</th>\n",
       "      <th>Art Gallery</th>\n",
       "      <th>Arts &amp; Crafts Store</th>\n",
       "      <th>Asian Restaurant</th>\n",
       "      <th>...</th>\n",
       "      <th>Vietnamese Restaurant</th>\n",
       "      <th>Warehouse Store</th>\n",
       "      <th>Wine Bar</th>\n",
       "      <th>Wine Shop</th>\n",
       "      <th>Wings Joint</th>\n",
       "      <th>Women's Store</th>\n",
       "      <th>Yoga Studio</th>\n",
       "      <th>Unique Percent</th>\n",
       "      <th>Within .25 mile</th>\n",
       "      <th>Total Query Results</th>\n",
       "    </tr>\n",
       "    <tr>\n",
       "      <th>Neighbourhood</th>\n",
       "      <th></th>\n",
       "      <th></th>\n",
       "      <th></th>\n",
       "      <th></th>\n",
       "      <th></th>\n",
       "      <th></th>\n",
       "      <th></th>\n",
       "      <th></th>\n",
       "      <th></th>\n",
       "      <th></th>\n",
       "      <th></th>\n",
       "      <th></th>\n",
       "      <th></th>\n",
       "      <th></th>\n",
       "      <th></th>\n",
       "      <th></th>\n",
       "      <th></th>\n",
       "      <th></th>\n",
       "      <th></th>\n",
       "      <th></th>\n",
       "      <th></th>\n",
       "    </tr>\n",
       "  </thead>\n",
       "  <tbody>\n",
       "    <tr>\n",
       "      <th>Willowdale West</th>\n",
       "      <td>0.0</td>\n",
       "      <td>0.0</td>\n",
       "      <td>0.0</td>\n",
       "      <td>0.0</td>\n",
       "      <td>0.0</td>\n",
       "      <td>0.0</td>\n",
       "      <td>0.0</td>\n",
       "      <td>0.0</td>\n",
       "      <td>0.0</td>\n",
       "      <td>0.0</td>\n",
       "      <td>...</td>\n",
       "      <td>0.0</td>\n",
       "      <td>0.0</td>\n",
       "      <td>0.0</td>\n",
       "      <td>0.0</td>\n",
       "      <td>0.0</td>\n",
       "      <td>0.0</td>\n",
       "      <td>0.0</td>\n",
       "      <td>1.000000</td>\n",
       "      <td>5.0</td>\n",
       "      <td>8</td>\n",
       "    </tr>\n",
       "    <tr>\n",
       "      <th>Woburn</th>\n",
       "      <td>0.0</td>\n",
       "      <td>0.0</td>\n",
       "      <td>0.0</td>\n",
       "      <td>0.0</td>\n",
       "      <td>0.0</td>\n",
       "      <td>0.0</td>\n",
       "      <td>0.0</td>\n",
       "      <td>0.0</td>\n",
       "      <td>0.0</td>\n",
       "      <td>0.0</td>\n",
       "      <td>...</td>\n",
       "      <td>0.0</td>\n",
       "      <td>0.0</td>\n",
       "      <td>0.0</td>\n",
       "      <td>0.0</td>\n",
       "      <td>0.0</td>\n",
       "      <td>0.0</td>\n",
       "      <td>0.0</td>\n",
       "      <td>1.000000</td>\n",
       "      <td>1.0</td>\n",
       "      <td>6</td>\n",
       "    </tr>\n",
       "    <tr>\n",
       "      <th>Woodbine Gardens,Parkview Hill</th>\n",
       "      <td>0.0</td>\n",
       "      <td>0.0</td>\n",
       "      <td>0.0</td>\n",
       "      <td>0.0</td>\n",
       "      <td>0.0</td>\n",
       "      <td>0.0</td>\n",
       "      <td>0.0</td>\n",
       "      <td>0.0</td>\n",
       "      <td>0.0</td>\n",
       "      <td>0.0</td>\n",
       "      <td>...</td>\n",
       "      <td>0.0</td>\n",
       "      <td>0.0</td>\n",
       "      <td>0.0</td>\n",
       "      <td>0.0</td>\n",
       "      <td>0.0</td>\n",
       "      <td>0.0</td>\n",
       "      <td>0.0</td>\n",
       "      <td>0.933333</td>\n",
       "      <td>9.0</td>\n",
       "      <td>17</td>\n",
       "    </tr>\n",
       "    <tr>\n",
       "      <th>Woodbine Heights</th>\n",
       "      <td>0.0</td>\n",
       "      <td>0.0</td>\n",
       "      <td>0.0</td>\n",
       "      <td>0.0</td>\n",
       "      <td>0.0</td>\n",
       "      <td>0.0</td>\n",
       "      <td>0.0</td>\n",
       "      <td>0.0</td>\n",
       "      <td>0.0</td>\n",
       "      <td>0.0</td>\n",
       "      <td>...</td>\n",
       "      <td>0.0</td>\n",
       "      <td>0.0</td>\n",
       "      <td>0.0</td>\n",
       "      <td>0.0</td>\n",
       "      <td>0.0</td>\n",
       "      <td>0.0</td>\n",
       "      <td>0.0</td>\n",
       "      <td>1.000000</td>\n",
       "      <td>4.0</td>\n",
       "      <td>13</td>\n",
       "    </tr>\n",
       "    <tr>\n",
       "      <th>York Mills West</th>\n",
       "      <td>0.0</td>\n",
       "      <td>0.0</td>\n",
       "      <td>0.0</td>\n",
       "      <td>0.0</td>\n",
       "      <td>0.0</td>\n",
       "      <td>0.0</td>\n",
       "      <td>0.0</td>\n",
       "      <td>0.0</td>\n",
       "      <td>0.0</td>\n",
       "      <td>0.0</td>\n",
       "      <td>...</td>\n",
       "      <td>0.0</td>\n",
       "      <td>0.0</td>\n",
       "      <td>0.0</td>\n",
       "      <td>0.0</td>\n",
       "      <td>0.0</td>\n",
       "      <td>0.0</td>\n",
       "      <td>0.0</td>\n",
       "      <td>1.000000</td>\n",
       "      <td>3.0</td>\n",
       "      <td>7</td>\n",
       "    </tr>\n",
       "  </tbody>\n",
       "</table>\n",
       "<p>5 rows × 228 columns</p>\n",
       "</div>"
      ],
      "text/plain": [
       "                                Afghan Restaurant  Airport  \\\n",
       "Neighbourhood                                                \n",
       "Willowdale West                               0.0      0.0   \n",
       "Woburn                                        0.0      0.0   \n",
       "Woodbine Gardens,Parkview Hill                0.0      0.0   \n",
       "Woodbine Heights                              0.0      0.0   \n",
       "York Mills West                               0.0      0.0   \n",
       "\n",
       "                                Airport Food Court  Airport Gate  \\\n",
       "Neighbourhood                                                      \n",
       "Willowdale West                                0.0           0.0   \n",
       "Woburn                                         0.0           0.0   \n",
       "Woodbine Gardens,Parkview Hill                 0.0           0.0   \n",
       "Woodbine Heights                               0.0           0.0   \n",
       "York Mills West                                0.0           0.0   \n",
       "\n",
       "                                Airport Lounge  Airport Terminal  \\\n",
       "Neighbourhood                                                      \n",
       "Willowdale West                            0.0               0.0   \n",
       "Woburn                                     0.0               0.0   \n",
       "Woodbine Gardens,Parkview Hill             0.0               0.0   \n",
       "Woodbine Heights                           0.0               0.0   \n",
       "York Mills West                            0.0               0.0   \n",
       "\n",
       "                                American Restaurant  Art Gallery  \\\n",
       "Neighbourhood                                                      \n",
       "Willowdale West                                 0.0          0.0   \n",
       "Woburn                                          0.0          0.0   \n",
       "Woodbine Gardens,Parkview Hill                  0.0          0.0   \n",
       "Woodbine Heights                                0.0          0.0   \n",
       "York Mills West                                 0.0          0.0   \n",
       "\n",
       "                                Arts & Crafts Store  Asian Restaurant  \\\n",
       "Neighbourhood                                                           \n",
       "Willowdale West                                 0.0               0.0   \n",
       "Woburn                                          0.0               0.0   \n",
       "Woodbine Gardens,Parkview Hill                  0.0               0.0   \n",
       "Woodbine Heights                                0.0               0.0   \n",
       "York Mills West                                 0.0               0.0   \n",
       "\n",
       "                                       ...           Vietnamese Restaurant  \\\n",
       "Neighbourhood                          ...                                   \n",
       "Willowdale West                        ...                             0.0   \n",
       "Woburn                                 ...                             0.0   \n",
       "Woodbine Gardens,Parkview Hill         ...                             0.0   \n",
       "Woodbine Heights                       ...                             0.0   \n",
       "York Mills West                        ...                             0.0   \n",
       "\n",
       "                                Warehouse Store  Wine Bar  Wine Shop  \\\n",
       "Neighbourhood                                                          \n",
       "Willowdale West                             0.0       0.0        0.0   \n",
       "Woburn                                      0.0       0.0        0.0   \n",
       "Woodbine Gardens,Parkview Hill              0.0       0.0        0.0   \n",
       "Woodbine Heights                            0.0       0.0        0.0   \n",
       "York Mills West                             0.0       0.0        0.0   \n",
       "\n",
       "                                Wings Joint  Women's Store  Yoga Studio  \\\n",
       "Neighbourhood                                                             \n",
       "Willowdale West                         0.0            0.0          0.0   \n",
       "Woburn                                  0.0            0.0          0.0   \n",
       "Woodbine Gardens,Parkview Hill          0.0            0.0          0.0   \n",
       "Woodbine Heights                        0.0            0.0          0.0   \n",
       "York Mills West                         0.0            0.0          0.0   \n",
       "\n",
       "                                Unique Percent  Within .25 mile  \\\n",
       "Neighbourhood                                                     \n",
       "Willowdale West                       1.000000              5.0   \n",
       "Woburn                                1.000000              1.0   \n",
       "Woodbine Gardens,Parkview Hill        0.933333              9.0   \n",
       "Woodbine Heights                      1.000000              4.0   \n",
       "York Mills West                       1.000000              3.0   \n",
       "\n",
       "                                Total Query Results  \n",
       "Neighbourhood                                        \n",
       "Willowdale West                                   8  \n",
       "Woburn                                            6  \n",
       "Woodbine Gardens,Parkview Hill                   17  \n",
       "Woodbine Heights                                 13  \n",
       "York Mills West                                   7  \n",
       "\n",
       "[5 rows x 228 columns]"
      ]
     },
     "execution_count": 724,
     "metadata": {},
     "output_type": "execute_result"
    }
   ],
   "source": [
    "venue_cat = pd.get_dummies(data[\"Venue Category\"])\n",
    "venue_cat[\"Neighbourhood\"] = data[\"Neighbourhood\"]\n",
    "columns = venue_cat.columns.tolist()\n",
    "columns = columns[-1:] + columns[:-1]\n",
    "venue_cat = venue_cat[columns]\n",
    "venue_cat = venue_cat.groupby(\"Neighbourhood\").mean()\n",
    "total_num = data[[\"Neighbourhood\", \"Total Query Results\"]].drop_duplicates().set_index(\"Neighbourhood\")\n",
    "prox_data = data.groupby(\"Neighbourhood\")[\"Within .25 mile\"].sum()\n",
    "appending = pd.DataFrame([uniquePercent, prox_data]).transpose()\n",
    "appending = appending.join(total_num)\n",
    "venue_cat = venue_cat.join(appending)\n",
    "print(venue_cat.shape)\n",
    "venue_cat.tail()"
   ]
  },
  {
   "cell_type": "markdown",
   "metadata": {},
   "source": [
    "Finally, lets run our KMeans algorithm on the dataset and find out what it thinks"
   ]
  },
  {
   "cell_type": "code",
   "execution_count": 756,
   "metadata": {},
   "outputs": [],
   "source": [
    "from sklearn.cluster import KMeans\n",
    "\n",
    "k = 6\n",
    "\n",
    "venue_cat.reset_index(drop = True, inplace = True)\n",
    "model = KMeans(n_clusters = k, random_state = 1).fit(venue_cat)\n",
    "\n",
    "output = model.labels_"
   ]
  },
  {
   "cell_type": "markdown",
   "metadata": {},
   "source": [
    "There was a mismatch in the data so I dropped the missing rows added the labels from KMeans to the final dataset"
   ]
  },
  {
   "cell_type": "code",
   "execution_count": 757,
   "metadata": {},
   "outputs": [
    {
     "data": {
      "text/html": [
       "<div>\n",
       "<style scoped>\n",
       "    .dataframe tbody tr th:only-of-type {\n",
       "        vertical-align: middle;\n",
       "    }\n",
       "\n",
       "    .dataframe tbody tr th {\n",
       "        vertical-align: top;\n",
       "    }\n",
       "\n",
       "    .dataframe thead th {\n",
       "        text-align: right;\n",
       "    }\n",
       "</style>\n",
       "<table border=\"1\" class=\"dataframe\">\n",
       "  <thead>\n",
       "    <tr style=\"text-align: right;\">\n",
       "      <th></th>\n",
       "      <th>Latitude</th>\n",
       "      <th>Longitude</th>\n",
       "      <th>Labels</th>\n",
       "    </tr>\n",
       "    <tr>\n",
       "      <th>Neighbourhood</th>\n",
       "      <th></th>\n",
       "      <th></th>\n",
       "      <th></th>\n",
       "    </tr>\n",
       "  </thead>\n",
       "  <tbody>\n",
       "    <tr>\n",
       "      <th>Rouge,Malvern</th>\n",
       "      <td>43.806686</td>\n",
       "      <td>-79.194353</td>\n",
       "      <td>1</td>\n",
       "    </tr>\n",
       "    <tr>\n",
       "      <th>Highland Creek,Rouge Hill,Port Union</th>\n",
       "      <td>43.784535</td>\n",
       "      <td>-79.160497</td>\n",
       "      <td>0</td>\n",
       "    </tr>\n",
       "    <tr>\n",
       "      <th>Guildwood,Morningside,West Hill</th>\n",
       "      <td>43.763573</td>\n",
       "      <td>-79.188711</td>\n",
       "      <td>0</td>\n",
       "    </tr>\n",
       "    <tr>\n",
       "      <th>Woburn</th>\n",
       "      <td>43.770992</td>\n",
       "      <td>-79.216917</td>\n",
       "      <td>0</td>\n",
       "    </tr>\n",
       "    <tr>\n",
       "      <th>Cedarbrae</th>\n",
       "      <td>43.773136</td>\n",
       "      <td>-79.239476</td>\n",
       "      <td>0</td>\n",
       "    </tr>\n",
       "  </tbody>\n",
       "</table>\n",
       "</div>"
      ],
      "text/plain": [
       "                                       Latitude  Longitude  Labels\n",
       "Neighbourhood                                                     \n",
       "Rouge,Malvern                         43.806686 -79.194353       1\n",
       "Highland Creek,Rouge Hill,Port Union  43.784535 -79.160497       0\n",
       "Guildwood,Morningside,West Hill       43.763573 -79.188711       0\n",
       "Woburn                                43.770992 -79.216917       0\n",
       "Cedarbrae                             43.773136 -79.239476       0"
      ]
     },
     "execution_count": 757,
     "metadata": {},
     "output_type": "execute_result"
    }
   ],
   "source": [
    "from collections import Counter\n",
    "\n",
    "final = df[[\"Neighbourhood\", \"Latitude\", \"Longitude\"]].set_index(\"Neighbourhood\")\n",
    "last_neigh = list(data[\"Neighbourhood\"].unique())\n",
    "first_neigh = df[\"Neighbourhood\"].values\n",
    "\n",
    "\n",
    "missing = Counter(first_neigh) - Counter(last_neigh)\n",
    "missing = list(missing.keys())[0]\n",
    "final.drop(missing, inplace = True)\n",
    "final[\"Labels\"] = output\n",
    "final.head()"
   ]
  },
  {
   "cell_type": "markdown",
   "metadata": {},
   "source": [
    "Lets visualize those labels on the map now"
   ]
  },
  {
   "cell_type": "code",
   "execution_count": 762,
   "metadata": {},
   "outputs": [
    {
     "data": {
      "text/html": [
       "<div style=\"width:100%;\"><div style=\"position:relative;width:100%;height:0;padding-bottom:60%;\"><iframe src=\"data:text/html;charset=utf-8;base64,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\" style=\"position:absolute;width:100%;height:100%;left:0;top:0;border:none !important;\" allowfullscreen webkitallowfullscreen mozallowfullscreen></iframe></div></div>"
      ],
      "text/plain": [
       "<folium.folium.Map at 0x16439bff630>"
      ]
     },
     "execution_count": 762,
     "metadata": {},
     "output_type": "execute_result"
    }
   ],
   "source": [
    "m = folium.Map(location = toronto_lat_long, zoom_start = 11, tiles = \"Stamen Toner\")\n",
    "\n",
    "for row in range(final.shape[0]):\n",
    "    current = final.iloc[row]\n",
    "    label = current[\"Labels\"]\n",
    "    if label == 0:\n",
    "        label_color = \"crimson\"\n",
    "    elif label == 1:\n",
    "        label_color = \"blue\"\n",
    "    elif label == 2:\n",
    "        label_color = \"orange\"\n",
    "    elif label == 3:\n",
    "        label_color = \"green\"\n",
    "    elif label == 4:\n",
    "        label_color = \"purple\"\n",
    "    elif label == 5:\n",
    "        label_color = \"yellow\"\n",
    "    folium.Circle(location = current[[\"Latitude\", \"Longitude\"]].values,\n",
    "                  popup = current.name,\n",
    "                  color = label_color,\n",
    "                  fill = True,\n",
    "                  radius = 90).add_to(m)\n",
    "\n",
    "m"
   ]
  }
 ],
 "metadata": {
  "kernelspec": {
   "display_name": "Python 3",
   "language": "python",
   "name": "python3"
  },
  "language_info": {
   "codemirror_mode": {
    "name": "ipython",
    "version": 3
   },
   "file_extension": ".py",
   "mimetype": "text/x-python",
   "name": "python",
   "nbconvert_exporter": "python",
   "pygments_lexer": "ipython3",
   "version": "3.7.1"
  }
 },
 "nbformat": 4,
 "nbformat_minor": 2
}
